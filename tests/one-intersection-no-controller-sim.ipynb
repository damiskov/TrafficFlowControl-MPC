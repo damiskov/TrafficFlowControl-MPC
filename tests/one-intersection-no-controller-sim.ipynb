{
 "cells": [
  {
   "cell_type": "markdown",
   "metadata": {},
   "source": [
    "### Simulating evolution of system state without a controller for the single intersection model"
   ]
  },
  {
   "cell_type": "markdown",
   "metadata": {},
   "source": [
    "##### Imports"
   ]
  },
  {
   "cell_type": "code",
   "execution_count": 19,
   "metadata": {},
   "outputs": [],
   "source": [
    "import numpy as np\n",
    "import matplotlib.pyplot as plt\n",
    "import os\n",
    "import sys\n",
    "from scipy import integrate\n",
    "\n",
    "# Move the working directory to the repository root\n",
    "os.chdir(\"..\")\n",
    "\n",
    "# Ensure the models folder is accessible by adding it to the path\n",
    "sys.path.append(os.getcwd())\n",
    "\n",
    "# Now try importing your model\n",
    "from models.one_intersection import OneIntersectionSystem"
   ]
  },
  {
   "cell_type": "markdown",
   "metadata": {},
   "source": [
    "#### Setting parameter values and initial conditions\n",
    "\n",
    "These are dummy values for now, and will have to be tuned."
   ]
  },
  {
   "cell_type": "code",
   "execution_count": 20,
   "metadata": {},
   "outputs": [
    {
     "data": {
      "text/plain": [
       "(4,)"
      ]
     },
     "execution_count": 20,
     "metadata": {},
     "output_type": "execute_result"
    }
   ],
   "source": [
    "params = {\n",
    "    'a': 0.6,\n",
    "    'b': 0.2,\n",
    "    'v': 1,\n",
    "    'beta': 0.5*np.ones((4,)),\n",
    "    'd': 0.1*np.ones((4,)),\n",
    "}\n",
    "initial_state = np.array([0.5, 0.5, 0.5, 0.5])\n",
    "initial_state.shape"
   ]
  },
  {
   "cell_type": "markdown",
   "metadata": {},
   "source": [
    "##### Initialising Model and Simulating"
   ]
  },
  {
   "cell_type": "code",
   "execution_count": 21,
   "metadata": {},
   "outputs": [
    {
     "name": "stdout",
     "output_type": "stream",
     "text": [
      "Initializing OneIntersectionSystem with parameters:\n",
      "a: 0.6\n",
      "b: 0.2\n",
      "v: 1\n",
      "beta: [0.5 0.5 0.5 0.5]\n",
      "d: [0.1 0.1 0.1 0.1]\n",
      "Initial state:\n",
      "[0.5 0.5 0.5 0.5]\n"
     ]
    }
   ],
   "source": [
    "# initialising the system\n",
    "single_intersection = OneIntersectionSystem(params, initial_state)"
   ]
  },
  {
   "cell_type": "code",
   "execution_count": 22,
   "metadata": {},
   "outputs": [
    {
     "name": "stdout",
     "output_type": "stream",
     "text": [
      "Sensor measurement: [0.25 0.25 0.25 0.25]\n",
      "Sensor measurement: [0.25 0.25 0.25 0.25]\n",
      "Initial state: [0.5 0.5 0.5 0.5]\n",
      "Initial sensor: [0.25 0.25 0.25 0.25]\n",
      "Initial output: [0.25 0.25 0.25 0.25]\n",
      "Initial input: [0.5]\n"
     ]
    }
   ],
   "source": [
    "# ------------------------------------------------------------\n",
    "# Initialising the State, Sensor,\n",
    "# Output vectors and the input vector\n",
    "# ------------------------------------------------------------\n",
    "\n",
    "N = 60 # Number of minutes to simulate\n",
    "t0 = 0.0        # [s] Initial time\n",
    "tf = N*60         # [s] Final time\n",
    "t= np.linspace(t0,tf,N)\n",
    "\n",
    "x = np.zeros((4,N))\n",
    "x[:,0] = initial_state\n",
    "\n",
    "y = np.zeros((4,N))\n",
    "y[:,0] = single_intersection.sensor()\n",
    "\n",
    "z = np.zeros((4,N))\n",
    "z[:,0] = single_intersection.output() # Only the first two heights are measured\n",
    "\n",
    "# Start with a constant input\n",
    "u = np.ones((1,N))*0.5\n",
    "\n",
    "\n",
    "print(f\"Initial state: {x[:, 0]}\")\n",
    "print(f\"Initial sensor: {y[:, 0]}\")\n",
    "print(f\"Initial output: {z[:, 0]}\")\n",
    "print(f\"Initial input: {u[:, 0]}\")"
   ]
  },
  {
   "cell_type": "code",
   "execution_count": 23,
   "metadata": {},
   "outputs": [
    {
     "ename": "ValueError",
     "evalue": "could not broadcast input array from shape (4,1) into shape (4,)",
     "output_type": "error",
     "traceback": [
      "\u001b[0;31m---------------------------------------------------------------------------\u001b[0m",
      "\u001b[0;31mValueError\u001b[0m                                Traceback (most recent call last)",
      "Cell \u001b[0;32mIn[23], line 1\u001b[0m\n\u001b[0;32m----> 1\u001b[0m sol \u001b[38;5;241m=\u001b[39m \u001b[43mintegrate\u001b[49m\u001b[38;5;241;43m.\u001b[39;49m\u001b[43msolve_ivp\u001b[49m\u001b[43m(\u001b[49m\u001b[43msingle_intersection\u001b[49m\u001b[38;5;241;43m.\u001b[39;49m\u001b[43mprocess\u001b[49m\u001b[43m,\u001b[49m\u001b[43m \u001b[49m\u001b[43m[\u001b[49m\u001b[43mt0\u001b[49m\u001b[43m,\u001b[49m\u001b[43m \u001b[49m\u001b[43mtf\u001b[49m\u001b[43m]\u001b[49m\u001b[43m,\u001b[49m\u001b[43m \u001b[49m\u001b[43minitial_state\u001b[49m\u001b[43m,\u001b[49m\u001b[43mmethod\u001b[49m\u001b[38;5;241;43m=\u001b[39;49m\u001b[38;5;124;43m'\u001b[39;49m\u001b[38;5;124;43mBDF\u001b[39;49m\u001b[38;5;124;43m'\u001b[39;49m\u001b[43m,\u001b[49m\u001b[43m \u001b[49m\u001b[43margs\u001b[49m\u001b[38;5;241;43m=\u001b[39;49m\u001b[43m(\u001b[49m\u001b[43m[\u001b[49m\u001b[43mu\u001b[49m\u001b[43m[\u001b[49m\u001b[43m:\u001b[49m\u001b[43m,\u001b[49m\u001b[38;5;241;43m0\u001b[39;49m\u001b[43m]\u001b[49m\u001b[43m]\u001b[49m\u001b[43m)\u001b[49m\u001b[43m)\u001b[49m\n\u001b[1;32m      2\u001b[0m \u001b[38;5;66;03m# Note - args is annoying to work with\u001b[39;00m\n\u001b[1;32m      3\u001b[0m sol\u001b[38;5;241m.\u001b[39mt[\u001b[38;5;241m0\u001b[39m], sol\u001b[38;5;241m.\u001b[39mt[\u001b[38;5;241m-\u001b[39m\u001b[38;5;241m1\u001b[39m]\n",
      "File \u001b[0;32m~/anaconda3/envs/mpc/lib/python3.10/site-packages/scipy/integrate/_ivp/ivp.py:621\u001b[0m, in \u001b[0;36msolve_ivp\u001b[0;34m(fun, t_span, y0, method, t_eval, dense_output, events, vectorized, args, **options)\u001b[0m\n\u001b[1;32m    618\u001b[0m \u001b[38;5;28;01mif\u001b[39;00m method \u001b[38;5;129;01min\u001b[39;00m METHODS:\n\u001b[1;32m    619\u001b[0m     method \u001b[38;5;241m=\u001b[39m METHODS[method]\n\u001b[0;32m--> 621\u001b[0m solver \u001b[38;5;241m=\u001b[39m \u001b[43mmethod\u001b[49m\u001b[43m(\u001b[49m\u001b[43mfun\u001b[49m\u001b[43m,\u001b[49m\u001b[43m \u001b[49m\u001b[43mt0\u001b[49m\u001b[43m,\u001b[49m\u001b[43m \u001b[49m\u001b[43my0\u001b[49m\u001b[43m,\u001b[49m\u001b[43m \u001b[49m\u001b[43mtf\u001b[49m\u001b[43m,\u001b[49m\u001b[43m \u001b[49m\u001b[43mvectorized\u001b[49m\u001b[38;5;241;43m=\u001b[39;49m\u001b[43mvectorized\u001b[49m\u001b[43m,\u001b[49m\u001b[43m \u001b[49m\u001b[38;5;241;43m*\u001b[39;49m\u001b[38;5;241;43m*\u001b[39;49m\u001b[43moptions\u001b[49m\u001b[43m)\u001b[49m\n\u001b[1;32m    623\u001b[0m \u001b[38;5;28;01mif\u001b[39;00m t_eval \u001b[38;5;129;01mis\u001b[39;00m \u001b[38;5;28;01mNone\u001b[39;00m:\n\u001b[1;32m    624\u001b[0m     ts \u001b[38;5;241m=\u001b[39m [t0]\n",
      "File \u001b[0;32m~/anaconda3/envs/mpc/lib/python3.10/site-packages/scipy/integrate/_ivp/bdf.py:218\u001b[0m, in \u001b[0;36mBDF.__init__\u001b[0;34m(self, fun, t0, y0, t_bound, max_step, rtol, atol, jac, jac_sparsity, vectorized, first_step, **extraneous)\u001b[0m\n\u001b[1;32m    215\u001b[0m \u001b[38;5;28mself\u001b[39m\u001b[38;5;241m.\u001b[39mnewton_tol \u001b[38;5;241m=\u001b[39m \u001b[38;5;28mmax\u001b[39m(\u001b[38;5;241m10\u001b[39m \u001b[38;5;241m*\u001b[39m EPS \u001b[38;5;241m/\u001b[39m rtol, \u001b[38;5;28mmin\u001b[39m(\u001b[38;5;241m0.03\u001b[39m, rtol \u001b[38;5;241m*\u001b[39m\u001b[38;5;241m*\u001b[39m \u001b[38;5;241m0.5\u001b[39m))\n\u001b[1;32m    217\u001b[0m \u001b[38;5;28mself\u001b[39m\u001b[38;5;241m.\u001b[39mjac_factor \u001b[38;5;241m=\u001b[39m \u001b[38;5;28;01mNone\u001b[39;00m\n\u001b[0;32m--> 218\u001b[0m \u001b[38;5;28mself\u001b[39m\u001b[38;5;241m.\u001b[39mjac, \u001b[38;5;28mself\u001b[39m\u001b[38;5;241m.\u001b[39mJ \u001b[38;5;241m=\u001b[39m \u001b[38;5;28;43mself\u001b[39;49m\u001b[38;5;241;43m.\u001b[39;49m\u001b[43m_validate_jac\u001b[49m\u001b[43m(\u001b[49m\u001b[43mjac\u001b[49m\u001b[43m,\u001b[49m\u001b[43m \u001b[49m\u001b[43mjac_sparsity\u001b[49m\u001b[43m)\u001b[49m\n\u001b[1;32m    219\u001b[0m \u001b[38;5;28;01mif\u001b[39;00m issparse(\u001b[38;5;28mself\u001b[39m\u001b[38;5;241m.\u001b[39mJ):\n\u001b[1;32m    220\u001b[0m     \u001b[38;5;28;01mdef\u001b[39;00m \u001b[38;5;21mlu\u001b[39m(A):\n",
      "File \u001b[0;32m~/anaconda3/envs/mpc/lib/python3.10/site-packages/scipy/integrate/_ivp/bdf.py:274\u001b[0m, in \u001b[0;36mBDF._validate_jac\u001b[0;34m(self, jac, sparsity)\u001b[0m\n\u001b[1;32m    270\u001b[0m         J, \u001b[38;5;28mself\u001b[39m\u001b[38;5;241m.\u001b[39mjac_factor \u001b[38;5;241m=\u001b[39m num_jac(\u001b[38;5;28mself\u001b[39m\u001b[38;5;241m.\u001b[39mfun_vectorized, t, y, f,\n\u001b[1;32m    271\u001b[0m                                      \u001b[38;5;28mself\u001b[39m\u001b[38;5;241m.\u001b[39matol, \u001b[38;5;28mself\u001b[39m\u001b[38;5;241m.\u001b[39mjac_factor,\n\u001b[1;32m    272\u001b[0m                                      sparsity)\n\u001b[1;32m    273\u001b[0m         \u001b[38;5;28;01mreturn\u001b[39;00m J\n\u001b[0;32m--> 274\u001b[0m     J \u001b[38;5;241m=\u001b[39m \u001b[43mjac_wrapped\u001b[49m\u001b[43m(\u001b[49m\u001b[43mt0\u001b[49m\u001b[43m,\u001b[49m\u001b[43m \u001b[49m\u001b[43my0\u001b[49m\u001b[43m)\u001b[49m\n\u001b[1;32m    275\u001b[0m \u001b[38;5;28;01melif\u001b[39;00m \u001b[38;5;28mcallable\u001b[39m(jac):\n\u001b[1;32m    276\u001b[0m     J \u001b[38;5;241m=\u001b[39m jac(t0, y0)\n",
      "File \u001b[0;32m~/anaconda3/envs/mpc/lib/python3.10/site-packages/scipy/integrate/_ivp/bdf.py:270\u001b[0m, in \u001b[0;36mBDF._validate_jac.<locals>.jac_wrapped\u001b[0;34m(t, y)\u001b[0m\n\u001b[1;32m    268\u001b[0m \u001b[38;5;28mself\u001b[39m\u001b[38;5;241m.\u001b[39mnjev \u001b[38;5;241m+\u001b[39m\u001b[38;5;241m=\u001b[39m \u001b[38;5;241m1\u001b[39m\n\u001b[1;32m    269\u001b[0m f \u001b[38;5;241m=\u001b[39m \u001b[38;5;28mself\u001b[39m\u001b[38;5;241m.\u001b[39mfun_single(t, y)\n\u001b[0;32m--> 270\u001b[0m J, \u001b[38;5;28mself\u001b[39m\u001b[38;5;241m.\u001b[39mjac_factor \u001b[38;5;241m=\u001b[39m \u001b[43mnum_jac\u001b[49m\u001b[43m(\u001b[49m\u001b[38;5;28;43mself\u001b[39;49m\u001b[38;5;241;43m.\u001b[39;49m\u001b[43mfun_vectorized\u001b[49m\u001b[43m,\u001b[49m\u001b[43m \u001b[49m\u001b[43mt\u001b[49m\u001b[43m,\u001b[49m\u001b[43m \u001b[49m\u001b[43my\u001b[49m\u001b[43m,\u001b[49m\u001b[43m \u001b[49m\u001b[43mf\u001b[49m\u001b[43m,\u001b[49m\n\u001b[1;32m    271\u001b[0m \u001b[43m                             \u001b[49m\u001b[38;5;28;43mself\u001b[39;49m\u001b[38;5;241;43m.\u001b[39;49m\u001b[43matol\u001b[49m\u001b[43m,\u001b[49m\u001b[43m \u001b[49m\u001b[38;5;28;43mself\u001b[39;49m\u001b[38;5;241;43m.\u001b[39;49m\u001b[43mjac_factor\u001b[49m\u001b[43m,\u001b[49m\n\u001b[1;32m    272\u001b[0m \u001b[43m                             \u001b[49m\u001b[43msparsity\u001b[49m\u001b[43m)\u001b[49m\n\u001b[1;32m    273\u001b[0m \u001b[38;5;28;01mreturn\u001b[39;00m J\n",
      "File \u001b[0;32m~/anaconda3/envs/mpc/lib/python3.10/site-packages/scipy/integrate/_ivp/common.py:325\u001b[0m, in \u001b[0;36mnum_jac\u001b[0;34m(fun, t, y, f, threshold, factor, sparsity)\u001b[0m\n\u001b[1;32m    322\u001b[0m         h[i] \u001b[38;5;241m=\u001b[39m (y[i] \u001b[38;5;241m+\u001b[39m factor[i] \u001b[38;5;241m*\u001b[39m y_scale[i]) \u001b[38;5;241m-\u001b[39m y[i]\n\u001b[1;32m    324\u001b[0m \u001b[38;5;28;01mif\u001b[39;00m sparsity \u001b[38;5;129;01mis\u001b[39;00m \u001b[38;5;28;01mNone\u001b[39;00m:\n\u001b[0;32m--> 325\u001b[0m     \u001b[38;5;28;01mreturn\u001b[39;00m \u001b[43m_dense_num_jac\u001b[49m\u001b[43m(\u001b[49m\u001b[43mfun\u001b[49m\u001b[43m,\u001b[49m\u001b[43m \u001b[49m\u001b[43mt\u001b[49m\u001b[43m,\u001b[49m\u001b[43m \u001b[49m\u001b[43my\u001b[49m\u001b[43m,\u001b[49m\u001b[43m \u001b[49m\u001b[43mf\u001b[49m\u001b[43m,\u001b[49m\u001b[43m \u001b[49m\u001b[43mh\u001b[49m\u001b[43m,\u001b[49m\u001b[43m \u001b[49m\u001b[43mfactor\u001b[49m\u001b[43m,\u001b[49m\u001b[43m \u001b[49m\u001b[43my_scale\u001b[49m\u001b[43m)\u001b[49m\n\u001b[1;32m    326\u001b[0m \u001b[38;5;28;01melse\u001b[39;00m:\n\u001b[1;32m    327\u001b[0m     structure, groups \u001b[38;5;241m=\u001b[39m sparsity\n",
      "File \u001b[0;32m~/anaconda3/envs/mpc/lib/python3.10/site-packages/scipy/integrate/_ivp/common.py:335\u001b[0m, in \u001b[0;36m_dense_num_jac\u001b[0;34m(fun, t, y, f, h, factor, y_scale)\u001b[0m\n\u001b[1;32m    333\u001b[0m n \u001b[38;5;241m=\u001b[39m y\u001b[38;5;241m.\u001b[39mshape[\u001b[38;5;241m0\u001b[39m]\n\u001b[1;32m    334\u001b[0m h_vecs \u001b[38;5;241m=\u001b[39m np\u001b[38;5;241m.\u001b[39mdiag(h)\n\u001b[0;32m--> 335\u001b[0m f_new \u001b[38;5;241m=\u001b[39m \u001b[43mfun\u001b[49m\u001b[43m(\u001b[49m\u001b[43mt\u001b[49m\u001b[43m,\u001b[49m\u001b[43m \u001b[49m\u001b[43my\u001b[49m\u001b[43m[\u001b[49m\u001b[43m:\u001b[49m\u001b[43m,\u001b[49m\u001b[43m \u001b[49m\u001b[38;5;28;43;01mNone\u001b[39;49;00m\u001b[43m]\u001b[49m\u001b[43m \u001b[49m\u001b[38;5;241;43m+\u001b[39;49m\u001b[43m \u001b[49m\u001b[43mh_vecs\u001b[49m\u001b[43m)\u001b[49m\n\u001b[1;32m    336\u001b[0m diff \u001b[38;5;241m=\u001b[39m f_new \u001b[38;5;241m-\u001b[39m f[:, \u001b[38;5;28;01mNone\u001b[39;00m]\n\u001b[1;32m    337\u001b[0m max_ind \u001b[38;5;241m=\u001b[39m np\u001b[38;5;241m.\u001b[39margmax(np\u001b[38;5;241m.\u001b[39mabs(diff), axis\u001b[38;5;241m=\u001b[39m\u001b[38;5;241m0\u001b[39m)\n",
      "File \u001b[0;32m~/anaconda3/envs/mpc/lib/python3.10/site-packages/scipy/integrate/_ivp/base.py:149\u001b[0m, in \u001b[0;36mOdeSolver.__init__.<locals>.fun_vectorized\u001b[0;34m(t, y)\u001b[0m\n\u001b[1;32m    147\u001b[0m f \u001b[38;5;241m=\u001b[39m np\u001b[38;5;241m.\u001b[39mempty_like(y)\n\u001b[1;32m    148\u001b[0m \u001b[38;5;28;01mfor\u001b[39;00m i, yi \u001b[38;5;129;01min\u001b[39;00m \u001b[38;5;28menumerate\u001b[39m(y\u001b[38;5;241m.\u001b[39mT):\n\u001b[0;32m--> 149\u001b[0m     f[:, i] \u001b[38;5;241m=\u001b[39m \u001b[38;5;28mself\u001b[39m\u001b[38;5;241m.\u001b[39m_fun(t, yi)\n\u001b[1;32m    150\u001b[0m \u001b[38;5;28;01mreturn\u001b[39;00m f\n",
      "\u001b[0;31mValueError\u001b[0m: could not broadcast input array from shape (4,1) into shape (4,)"
     ]
    }
   ],
   "source": [
    "sol = integrate.solve_ivp(single_intersection.process, [t0, tf], initial_state,method='BDF', args=([u[:,0]]))\n",
    "# Note - args is annoying to work with\n",
    "sol.t[0], sol.t[-1]"
   ]
  }
 ],
 "metadata": {
  "kernelspec": {
   "display_name": "mpc",
   "language": "python",
   "name": "python3"
  },
  "language_info": {
   "codemirror_mode": {
    "name": "ipython",
    "version": 3
   },
   "file_extension": ".py",
   "mimetype": "text/x-python",
   "name": "python",
   "nbconvert_exporter": "python",
   "pygments_lexer": "ipython3",
   "version": "3.10.14"
  }
 },
 "nbformat": 4,
 "nbformat_minor": 2
}
